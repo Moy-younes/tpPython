{
 "cells": [
  {
   "cell_type": "markdown",
   "metadata": {},
   "source": [
    "# groupe\n",
    "\n",
    "### BOUTAGHOU Sonia  ...   201500008768                          \n",
    "### BENTAHA  Sabrina 201500009190 \n",
    "### MOKHTARI Younes  201400007895\n",
    "### AZZI Rabah 201400006910                     \n"
   ]
  },
  {
   "cell_type": "markdown",
   "metadata": {},
   "source": [
    "# principe de la première méthode:\n",
    "-La somme des nombres pairs est un nombre pair.                              \n",
    "-sommer les plus grand nombre ==> un nombre min d'iterations\n",
    "\n",
    "# principe de la deuxième méthode:\n",
    "-La somme des nombres pairs est un nombre pair donc il faut sommer au moins un nombre impair pour avoir un résultat impair, d'où la deuxième itération  (2+1) qui va contribué à la sommation des nombres impairs\n"
    "-sommer les plus grand nombre ==> un nombre min d'iterations\n",
    "\n"
   ]
  },
  {
   "cell_type": "code",
   "execution_count": 1,
   "metadata": {},
   "outputs": [
    {
     "name": "stdout",
     "output_type": "stream",
     "text": [
      "donner la puissance choisi26\n",
      "le nbre min est  6\n",
      "resultat de la somme donnée est  1630\n"
     ]
    }
   ],
   "source": [
    "def prod(k):\n",
    "    def méthode1(n):\n",
    "        l=[];\n",
    "        l.append(1);\n",
    "        s=0\n",
    "        som=2;\n",
    "        if s==0:\n",
    "            while som < int(k):\n",
    "                l.append(som)\n",
    "                i=som;j=som;t=1;\n",
    "                while i + j>int(k):\n",
    "                    j = l[-t];\n",
    "                    t += 1;\n",
    "                som = i+j;\n",
    "            n=len(l)\n",
    "            return n\n",
    "    def méthode2(n):\n",
    "        l=[]; \n",
    "        s=1;\n",
    "        l.append(1);\n",
    "        if s==1:\n",
    "            l.append(2);\n",
    "            som=3;\n",
    "            while som < int(k):\n",
    "                l.append(som)\n",
    "                i=som;j=som;t=1;\n",
    "                while i + j>int(k):\n",
    "                    j = l[-t];\n",
    "                    t += 1;\n",
    "                som = i+j;\n",
    "            m=len(l)\n",
    "            return m\n",
    "    m=méthode1(k);\n",
    "    n=méthode2(k);\n",
    "    if n>m:\n",
    "        nb_min=m\n",
    "    else:\n",
    "        nb_min=n\n",
    "    return nb_min\n",
    "\n",
    "k=input(\"donner la puissance choisi\")   \n",
    "print(\"le nbre min est \",prod(k))\n",
    "\n",
    "\n",
    "somme=0;\n",
    "for i in range(1,200):\n",
    "    somme += prod(i)\n",
    "print(\"resultat de la somme donnée est \",somme)\n",
    "\n",
    "\n"
   ]
  },
  {
   "cell_type": "markdown",
   "metadata": {},
   "source": [
    "# rapport de la fonction prod \n",
    "## fonction méthode1 \n",
    " cette fonction décrit la première méthode de calcule d'une puissance \n",
    "  déclaration d'une liste  \n",
    "  initialisation d'une som à 2 \n",
    "  ## boucle tant que \n",
    "  condition sur la somme soit inférieur à la puissance donné, on ajoute à la liste la valeur de la som\n",
    "  en utilise deux varialbles i et j pour les quellles en donne les valeurs de la som. \n",
    "  ### boucle tanque que imbriqué\n",
    "  on test pour i+j si il dépasse la valeur de la puissance alors on réaffecte à j la position de la dérnière som rajouter sur la list et on test à nouveau jusqu'a sortir de la boucle.  \n",
    "  une fois sortis de la boucle la som reçoit i+j et remonte à la première boucle si la som est égale à la puissance terminer, une variable m vas recevoir la longueur de la chaine qui sera le nombre d'itération utiliser dans la méthode1. \n",
    "  ## fonction méthode2 \n",
    "  cette fonction décrit la deuxième méthode de calcule d'une puissance \n",
    "  déclaration d'une list \n",
    "  ajout dans la list de deux valeurs 1 et 2\n",
    "  inialisation de la variable som à 3  \n",
    "  ### boucle tant que\n",
    "  condition sur la somme soit inférieur à la puissance donné, on ajoute à la liste la valeur de la som\n",
    "  en utilise deux varialbles i et j pour les quelles en donne les valeurs de la som  on déclare deux variables i et j qui vont recevoirchaqu'un la valeur de la som. \n",
    "  #### boucle tant que imbriqué \n",
    " on test pour i+j si il dépasse la valeur de la puissance alors on réaffecte à j la  position de la dernière som rajouter sur la list et on test à nouveau jusqu'a sortir de la boucle.  \n",
    "  une fois sortis de la boucle la som reçoit i+j et remonte à la première boucle si la som est égale à la puissance terminer, une variable n vas recevoir la longueur de la chaine qui sera le nombre d'itération utiliser dans la méthode2. \n",
    "  ## fonction prod\n",
    "  la fonction prod fait appel au deux fonction précédente où deux variables n et m vont recevoir les valeurs retournés par les deux fonctions.\n",
    "  ### boucle if \n",
    "   la boucle if: va faire une comparaison  entre n et m et retourné la minimum \n",
    "   puis affiche le résultat à l'utilisateur.\n",
    "## la boucle for \n",
    " la boucle for: va sommé toute les puissance de 1 à 200 et retourne le résultat. "
   ]
  },
  {
   "cell_type": "code",
   "execution_count": null,
   "metadata": {},
   "outputs": [],
   "source": []
  }
 ],
 "metadata": {
  "kernelspec": {
   "display_name": "Python 3",
   "language": "python",
   "name": "python3"
  },
  "language_info": {
   "codemirror_mode": {
    "name": "ipython",
    "version": 3
   },
   "file_extension": ".py",
   "mimetype": "text/x-python",
   "name": "python",
   "nbconvert_exporter": "python",
   "pygments_lexer": "ipython3",
   "version": "3.5.2"
  }
 },
 "nbformat": 4,
 "nbformat_minor": 2
}
